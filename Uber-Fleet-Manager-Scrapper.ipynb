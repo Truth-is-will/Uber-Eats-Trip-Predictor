{
 "cells": [
  {
   "cell_type": "code",
   "execution_count": null,
   "metadata": {},
   "outputs": [],
   "source": [
    "# Starting Chrome Session\n",
    "from selenium import webdriver\n",
    "browser = webdriver.Chrome(\"path-to-chromedriver\")\n",
    "browser.get('https://drivers.uber.com/p3/fleet-manager/trips')"
   ]
  },
  {
   "cell_type": "code",
   "execution_count": null,
   "metadata": {},
   "outputs": [],
   "source": [
    "# Placing Username\n",
    "username = browser.find_element_by_id('useridInput')\n",
    "username.send_keys('enter-your-email-here')     #Enter your username over here\n",
    "Next = browser.find_element_by_class_name('push-small--right')\n",
    "Next.click()"
   ]
  },
  {
   "cell_type": "code",
   "execution_count": null,
   "metadata": {},
   "outputs": [],
   "source": [
    "# Placing Password\n",
    "password = browser.find_element_by_id('password')\n",
    "password.send_keys('enter-your-password-here')     #Enter your password over here\n",
    "Next = browser.find_element_by_class_name('push-small--right')\n",
    "Next.click()"
   ]
  },
  {
   "cell_type": "code",
   "execution_count": null,
   "metadata": {},
   "outputs": [],
   "source": [
    "# Placing Verification Code (Only use this if uber asks for a verification code page on chrome)\n",
    "verification = browser.find_element_by_id('verificationCode')\n",
    "verification.send_keys('enter-your-verification-code-here')\n",
    "Next = browser.find_element_by_class_name('push-small--right')\n",
    "Next.click()"
   ]
  },
  {
   "cell_type": "markdown",
   "metadata": {},
   "source": [
    "# Uber Fleet Manager Scrapper"
   ]
  },
  {
   "cell_type": "code",
   "execution_count": null,
   "metadata": {},
   "outputs": [],
   "source": [
    "# Define all necessary arrays\n",
    "timeseriesPD = []\n",
    "farePD = []\n",
    "durPD = []\n",
    "disPD = []\n",
    "statusPD = []\n",
    "shopPD = []\n",
    "droptimePD = []\n",
    "droplocPD = []\n",
    "orderedPD = []\n",
    "shopPD = []\n",
    "pickedPD = []\n",
    "deliveredPD = []\n",
    "droplocPD = []"
   ]
  },
  {
   "cell_type": "code",
   "execution_count": null,
   "metadata": {},
   "outputs": [],
   "source": [
    "# Make necessary imports\n",
    "from bs4 import BeautifulSoup\n",
    "import time\n",
    "\n",
    "# Detect the number of pages in the week\n",
    "soup = BeautifulSoup(browser.page_source, 'html.parser')\n",
    "num_pages = soup.find_all(\"nav\", role=\"navigation\")[0].get_text().split('Previous')[1].split('Next')[0][-1]\n",
    "print(\"This week has a total of \" + str(num_pages) + \" pages.\")\n",
    "loop = int(num_pages) + 2\n",
    "\n",
    "# Run the loop for reaching all of the pages\n",
    "\n",
    "for x in range(2,loop):\n",
    "    regixNP = \"//nav[@role='navigation']/ul/li[\" + str(x) + \"]\"\n",
    "    browser.find_element_by_xpath(regixNP).click()\n",
    "    time.sleep(4)\n",
    "    \n",
    "    new_soup = BeautifulSoup(browser.page_source, 'html.parser')\n",
    "    rows = new_soup.find_all(\"tr\", class_=\"cursor--pointer _style_2T0IvR\")\n",
    "    disp0 = \"Page \" + str(x-1) + \" has \" + str(len(rows)) + \" rows.\"\n",
    "    print(disp0)\n",
    "    n=1\n",
    "\n",
    "# Run the loop to open all the rows to open all the data\n",
    "    for y in range(1,len(rows)*2,2):\n",
    "        regixR = \"//table[1]/tbody/tr[\" + str(y) + \"]/td/i\"\n",
    "        browser.find_element_by_xpath(regixR).click()\n",
    "        disp1 = \"For page \" + str(x-1) + \" processing row \" + str(n) + \"/\" + str(len(rows))\n",
    "        print(disp1)\n",
    "        n+=1\n",
    "        \n",
    "    browser.execute_script(\"window.scrollTo(0, document.body.scrollHeight);\") \n",
    "    time.sleep(1)\n",
    "    soup = BeautifulSoup(browser.page_source, 'html.parser')\n",
    "    print(\"Scrapping operation started.\")\n",
    "    \n",
    "# Run a loop to scrap all data\n",
    "    for z in range(0,len(rows)*2):\n",
    "        \n",
    "# Scrap all the data and write a condition for even and odd ranges\n",
    "        if z%2 == 0:\n",
    "            ss = soup.select(\"tbody[data-reactid*='366'] tr\")[z].get_text()\n",
    "            datetime = ss.split(' Requested: ')[1].split(' AESTDriver:\\xa0')[0]\n",
    "            driver = ss.split(' Requested: ')[1].split(' AESTDriver:\\xa0')[1].split(' License: ')[0]\n",
    "            car = ss.split(' Requested: ')[1].split(' AESTDriver:\\xa0')[1].split(' License: ')[-1].split(' Fare: ')[0]\n",
    "            fare = ss.split(' Requested: ')[1].split(' AESTDriver:\\xa0')[1].split(' License: ')[-1].split(' Fare: ')[-1].split(' Time:   ')[0]\n",
    "            dur = ss.split(' Requested: ')[1].split(' AESTDriver:\\xa0')[1].split(' License: ')[-1].split(' Fare: ')[-1].split(' Time:   ')[-1].split(' Kilometers: ')[0]\n",
    "            dis = ss.split(' Requested: ')[1].split(' AESTDriver:\\xa0')[1].split(' License: ')[-1].split(' Fare: ')[-1].split(' Time:   ')[-1].split(' Kilometers: ')[-1].split(' Status: ')[0]\n",
    "            status = ss.split(' Requested: ')[1].split(' AESTDriver:\\xa0')[1].split(' License: ')[-1].split(' Fare: ')[-1].split(' Time:   ')[-1].split(' Kilometers: ')[-1].split(' Status: ')[-1]\n",
    "            \n",
    "            timeseriesPD.append(datetime)\n",
    "            farePD.append(fare)\n",
    "            durPD.append(dur)\n",
    "            disPD.append(dis)\n",
    "            statusPD.append(status)\n",
    "            \n",
    "        elif z%2 == 1:\n",
    "            tt = soup.select(\"tbody[data-reactid*='366'] tr\")[z].get_text()\n",
    "            timeordered = tt.split('\\n\\n\\n\\n\\n\\n            DELIVERY\\n          \\n\\n\\n\\n\\n\\n\\n\\n          ')[-1].split(' AEST\\n        \\n\\n          ')[0]\n",
    "            shop = tt.split('\\n\\n\\n\\n\\n\\n            DELIVERY\\n          \\n\\n\\n\\n\\n\\n\\n\\n          ')[-1].split(' AEST\\n        \\n\\n          ')[1].split('\\n        \\n\\n\\n\\n\\n\\n\\n\\n\\n\\n          ')[0]\n",
    "            timepicked = tt.split('\\n\\n\\n\\n\\n\\n            DELIVERY\\n          \\n\\n\\n\\n\\n\\n\\n\\n          ')[-1].split(' AEST\\n        \\n\\n          ')[1].split('\\n        \\n\\n\\n\\n\\n\\n\\n\\n\\n\\n          ')[-1]\n",
    "            timedelivered = tt.split('\\n\\n\\n\\n\\n\\n            DELIVERY\\n          \\n\\n\\n\\n\\n\\n\\n\\n          ')[-1].split(' AEST\\n        \\n\\n          ')[2].split('\\n        \\n\\n\\n\\n\\n\\n\\n\\n\\n\\n          ')[-1]\n",
    "            droploc = tt.split('\\n\\n\\n\\n\\n\\n            DELIVERY\\n          \\n\\n\\n\\n\\n\\n\\n\\n          ')[-1].split(' AEST\\n        \\n\\n          ')[-1].split('\\n        \\n\\n\\n\\n')[0]\n",
    "            \n",
    "            orderedPD.append(timeordered)\n",
    "            shopPD.append(shop)\n",
    "            pickedPD.append(timepicked)\n",
    "            deliveredPD.append(timedelivered)\n",
    "            droplocPD.append(droploc)\n",
    "        \n",
    "        else:\n",
    "            print(\"Error.\")\n",
    "            \n",
    "    print(\"Page \" + str(x-1) + \" scrapping Complete.\")\n"
   ]
  },
  {
   "cell_type": "code",
   "execution_count": null,
   "metadata": {},
   "outputs": [],
   "source": [
    "import pandas as pd\n",
    "scrapped = { \"Date and Time\" : timeseriesPD,\n",
    "             \"Fare\" : farePD,\n",
    "             \"Duration\" : durPD,\n",
    "             \"Distance\" : disPD,\n",
    "             \"Status\" : statusPD,\n",
    "             \"Resturant\" : shopPD,\n",
    "             \"Drop Location\" : droplocPD,\n",
    "             \"Time Ordered\" : orderedPD,\n",
    "             \"Time Picked\" : pickedPD,\n",
    "             \"Time Delivered\" : deliveredPD\n",
    "           }\n",
    "\n",
    "uber_trip = pd.DataFrame(scrapped)\n",
    "uber_trip.to_csv('path-to-output-file')\n",
    "uber_trip"
   ]
  },
  {
   "cell_type": "code",
   "execution_count": null,
   "metadata": {},
   "outputs": [],
   "source": [
    "uber_trip"
   ]
  }
 ],
 "metadata": {
  "kernelspec": {
   "display_name": "Python 3",
   "language": "python",
   "name": "python3"
  },
  "language_info": {
   "codemirror_mode": {
    "name": "ipython",
    "version": 3
   },
   "file_extension": ".py",
   "mimetype": "text/x-python",
   "name": "python",
   "nbconvert_exporter": "python",
   "pygments_lexer": "ipython3",
   "version": "3.7.6"
  }
 },
 "nbformat": 4,
 "nbformat_minor": 2
}
