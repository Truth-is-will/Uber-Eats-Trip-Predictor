{
 "cells": [
  {
   "cell_type": "markdown",
   "metadata": {},
   "source": [
    "# Setting up Selenium for Uber "
   ]
  },
  {
   "cell_type": "code",
   "execution_count": null,
   "metadata": {},
   "outputs": [],
   "source": [
    "from selenium import webdriver\n",
    "browser = webdriver.Chrome(\"path-to-chromedriver\")\n",
    "browser.get('https://drivers.uber.com/p3/payments/trips/{your-trip-id}')"
   ]
  },
  {
   "cell_type": "code",
   "execution_count": null,
   "metadata": {
    "scrolled": true
   },
   "outputs": [],
   "source": [
    "username = browser.find_element_by_id('useridInput')\n",
    "username.send_keys('enter-your-email-here')\n",
    "Next = browser.find_element_by_class_name('push-small--right')\n",
    "Next.click()"
   ]
  },
  {
   "cell_type": "code",
   "execution_count": null,
   "metadata": {},
   "outputs": [],
   "source": [
    "password = browser.find_element_by_id('password')\n",
    "password.send_keys('enter-your-password-here')\n",
    "Next = browser.find_element_by_class_name('push-small--right')\n",
    "Next.click()"
   ]
  },
  {
   "cell_type": "code",
   "execution_count": null,
   "metadata": {},
   "outputs": [],
   "source": [
    "verification = browser.find_element_by_id('verificationCode')\n",
    "verification.send_keys('enter-your-verification-code-here')\n",
    "Next = browser.find_element_by_class_name('push-small--right')\n",
    "Next.click()"
   ]
  },
  {
   "cell_type": "markdown",
   "metadata": {},
   "source": [
    "# Scrapping Uber Trip Data"
   ]
  },
  {
   "cell_type": "code",
   "execution_count": null,
   "metadata": {},
   "outputs": [],
   "source": [
    "import pandas as pd\n",
    "import os\n",
    "import time\n",
    "from bs4 import BeautifulSoup\n",
    "import os\n",
    "\n",
    "path = 'path-to-statements-folder-here'\n",
    "files = os.listdir(path)\n",
    "\n",
    "pay_df = []\n",
    "date_df = []\n",
    "duration_df = []\n",
    "distance_df = []\n",
    "fare_df = []\n",
    "surge_df = []\n",
    "surge_fee_df = []\n",
    "UberFee_df = []\n",
    "tripid_df = []\n",
    "pickup_df = []\n",
    "dropoff_df = []\n",
    "\n",
    "for x in range(0,len(files)):\n",
    "    \n",
    "    # Excessing files within relevant folder\n",
    "    f_path = os.path.join(path, files[x])    \n",
    "    \n",
    "    # Uploding the uber statement file and segragaing the tripID column\n",
    "    statement = pd.read_csv(f_path)\n",
    "    tripID  = statement['Trip ID']\n",
    "\n",
    "    # Scrapping all the relevant trip data\n",
    "    for tid in tripID:\n",
    "        # creating weblink to fetch information and pushing it onto chrome\n",
    "        weblink = os.path.join('https://drivers.uber.com/p3/payments/trips/',tid)\n",
    "        \n",
    "        #delaying execution\n",
    "        time.sleep(1)\n",
    "        browser.get(weblink)\n",
    "\n",
    "        # scrapping the page using beautiful soap\n",
    "        page_source = browser.page_source\n",
    "        soup = BeautifulSoup(page_source, 'html.parser')\n",
    "        pay = soup.find('h1', class_='bi br').get_text()\n",
    "        date = soup.find('div', class_='cs ct cu cv cw cx cy').get_text()\n",
    "        duration = soup.find_all('h4', class_='bi')[0].get_text()\n",
    "        distance = soup.find_all('h4', class_='bi')[1].get_text()\n",
    "        fare = soup.find_all('span', class_='c0 c1 d9 bj')[0].get_text()\n",
    "        pickup = soup.find_all('div', class_=\"dr\")[0].get_text()\n",
    "        loc = soup.find_all('div', class_=\"dq\")[0].get_text()\n",
    "        dropoff = loc.replace(pickup,\"\")\n",
    "        tripid = tid\n",
    "        try:\n",
    "            UberFee = soup.find_all('span', class_='c0 c1 d9')[1].get_text()\n",
    "            surge = soup.find_all('span', class_='c0 c1 d9')[0].get_text()\n",
    "            surge_fee = \"Yes\"\n",
    "        except:\n",
    "            UberFee = soup.find_all('span', class_='c0 c1 d9')[0].get_text()\n",
    "            surge = \"NA\"\n",
    "            surge_fee = \"No\"\n",
    "\n",
    "        # appending results to arrays\n",
    "        pay_df.append(pay)\n",
    "        date_df.append(date)\n",
    "        duration_df.append(duration)\n",
    "        distance_df.append(distance)\n",
    "        fare_df.append(fare)\n",
    "        surge_df.append(surge)\n",
    "        UberFee_df.append(UberFee)\n",
    "        pickup_df.append(pickup)\n",
    "        dropoff_df.append(dropoff)\n",
    "        tripid_df.append(tripid)\n",
    "        surge_fee_df.append(surge_fee)\n",
    "\n",
    "    # Enquiring Status\n",
    "    print(\"The file no \" + str(x+1) + \" named as \" + files[x] + \" is completed out of \" + str(len(files)))\n",
    "browser.quit()"
   ]
  },
  {
   "cell_type": "code",
   "execution_count": null,
   "metadata": {},
   "outputs": [],
   "source": [
    "uber_data = { 'TripID' : tripid_df,\n",
    "              'Date and Time' : date_df,\n",
    "              'Surge Status' : surge_fee_df,\n",
    "              'Fare' : fare_df,\n",
    "              'Surge' : surge_df,\n",
    "              'UberFee' : UberFee_df,\n",
    "              'Pay' : pay_df,\n",
    "              'Duration' : duration_df,\n",
    "              'Distance' : distance_df,\n",
    "              'Pickup Time' : pickup_df,\n",
    "              'Dropoff Time' : dropoff_df}\n",
    "\n",
    "uber_data_df = pd.DataFrame(uber_data)\n",
    "uber_data_df.to_csv('path-to-output-file')"
   ]
  },
  {
   "cell_type": "code",
   "execution_count": null,
   "metadata": {},
   "outputs": [],
   "source": [
    "uber_data_df"
   ]
  }
 ],
 "metadata": {
  "kernelspec": {
   "display_name": "Python 3",
   "language": "python",
   "name": "python3"
  },
  "language_info": {
   "codemirror_mode": {
    "name": "ipython",
    "version": 3
   },
   "file_extension": ".py",
   "mimetype": "text/x-python",
   "name": "python",
   "nbconvert_exporter": "python",
   "pygments_lexer": "ipython3",
   "version": "3.7.6"
  }
 },
 "nbformat": 4,
 "nbformat_minor": 2
}
